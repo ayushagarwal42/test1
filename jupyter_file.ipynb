{
 "cells": [
  {
   "cell_type": "code",
   "execution_count": 13,
   "metadata": {},
   "outputs": [],
   "source": [
    "import pandas as pd\n",
    "import warnings\n",
    "warnings.filterwarnings(\"ignore\")\n",
    "df = pd.read_csv('India Agriculture Crop Production.csv')"
   ]
  },
  {
   "cell_type": "code",
   "execution_count": 14,
   "metadata": {},
   "outputs": [],
   "source": [
    "production_data = df['Production']"
   ]
  },
  {
   "cell_type": "code",
   "execution_count": 15,
   "metadata": {},
   "outputs": [],
   "source": [
    "def calculate_mean(data):\n",
    "    total_sum = sum(data)\n",
    "    N = len(data)\n",
    "    mean = total_sum / N\n",
    "    return mean\n",
    "\n",
    "def calculate_median(data):\n",
    "    n = len(data)\n",
    "    data.sort()\n",
    "\n",
    "    if n % 2 == 1:\n",
    "        median = data[n // 2]\n",
    "    else:\n",
    "        mid1 = data[(n - 1) // 2]\n",
    "        mid2 = data[n // 2]\n",
    "        median = (mid1 + mid2) / 2\n",
    "\n",
    "    return median\n",
    "\n",
    "def calculate_mode(data):\n",
    "    freq_dict = {}\n",
    "    max_count = 0\n",
    "    mode_values = []\n",
    "\n",
    "    for value in data:\n",
    "        if value in freq_dict:\n",
    "            freq_dict[value] += 1\n",
    "        else:\n",
    "            freq_dict[value] = 1\n",
    "\n",
    "        if freq_dict[value] > max_count:\n",
    "            max_count = freq_dict[value]\n",
    "            mode_values = [value]\n",
    "        elif freq_dict[value] == max_count:\n",
    "            mode_values.append(value)\n",
    "\n",
    "    return mode_values"
   ]
  },
  {
   "cell_type": "code",
   "execution_count": 4,
   "metadata": {},
   "outputs": [],
   "source": [
    "import math\n",
    "\n",
    "def calculate_geometric_mean(data):\n",
    "    product = 1\n",
    "    N = len(data)\n",
    "\n",
    "    for value in data:\n",
    "        product *= value\n",
    "\n",
    "    geometric_mean = math.pow(product, 1 / N)\n",
    "    return geometric_mean"
   ]
  },
  {
   "cell_type": "code",
   "execution_count": 16,
   "metadata": {},
   "outputs": [],
   "source": [
    "def calculate_harmonic_mean(data):\n",
    "    reciprocals = [1 / value for value in data if value != 0]\n",
    "\n",
    "    if len(reciprocals) == 0:\n",
    "        # Handle the case where all values are zero\n",
    "        return 0.0\n",
    "\n",
    "    harmonic_mean = len(reciprocals) / sum(reciprocals)\n",
    "    return harmonic_mean"
   ]
  },
  {
   "cell_type": "code",
   "execution_count": 9,
   "metadata": {},
   "outputs": [
    {
     "name": "stdout",
     "output_type": "stream",
     "text": [
      "nan\n",
      "107.0\n",
      "[1.0]\n",
      "nan\n",
      "nan\n"
     ]
    }
   ],
   "source": [
    "mean_value = calculate_mean(production_data)\n",
    "median_value = calculate_median(production_data)\n",
    "mode_values = calculate_mode(production_data)\n",
    "geometric_mean_value = calculate_geometric_mean(production_data)\n",
    "harmonic_mean_value = calculate_harmonic_mean(production_data)\n",
    "\n",
    "print(mean_value)\n",
    "print(median_value)\n",
    "print(mode_values)\n",
    "print(geometric_mean_value)\n",
    "print(harmonic_mean_value)"
   ]
  },
  {
   "cell_type": "code",
   "execution_count": null,
   "metadata": {},
   "outputs": [],
   "source": [
    "# The mean is calculated by summing up all the values and dividing by the number of values.\n",
    "# To calculate the median, first, you need to sort the data and then find the middle value. If there is an even number of values, take the average of the two middle values.\n",
    "# The mode is the value that appears most frequently in the dataset.\n",
    "# The geometric mean is calculated as the N-th root of the product of all N values\n",
    "# The harmonic mean is calculated as the reciprocal of the arithmetic mean of the reciprocals of the values."
   ]
  },
  {
   "cell_type": "code",
   "execution_count": 18,
   "metadata": {},
   "outputs": [
    {
     "data": {
      "text/plain": [
       "(345407,)"
      ]
     },
     "execution_count": 18,
     "metadata": {},
     "output_type": "execute_result"
    }
   ],
   "source": [
    "data_shape = production_data.shape\n",
    "data_shape"
   ]
  },
  {
   "cell_type": "code",
   "execution_count": 22,
   "metadata": {},
   "outputs": [
    {
     "name": "stdout",
     "output_type": "stream",
     "text": [
      "7089.0\n",
      "87.0\n",
      "7176.0\n"
     ]
    }
   ],
   "source": [
    "# Calculate the interquartile range (IQR)\n",
    "Q1 = production_data.quantile(0.25)\n",
    "Q3 = production_data.quantile(0.75)\n",
    "IQR = Q3 - Q1\n",
    "print(IQR)\n",
    "print(Q1)\n",
    "print(Q3)"
   ]
  },
  {
   "cell_type": "code",
   "execution_count": 24,
   "metadata": {},
   "outputs": [
    {
     "data": {
      "text/plain": [
       "463534660128531.1"
      ]
     },
     "execution_count": 24,
     "metadata": {},
     "output_type": "execute_result"
    }
   ],
   "source": [
    "variance = production_data.var()\n",
    "variance"
   ]
  },
  {
   "cell_type": "code",
   "execution_count": 25,
   "metadata": {},
   "outputs": [
    {
     "data": {
      "text/plain": [
       "21529855.088423867"
      ]
     },
     "execution_count": 25,
     "metadata": {},
     "output_type": "execute_result"
    }
   ],
   "source": [
    "std_deviation = production_data.std()\n",
    "std_deviation"
   ]
  },
  {
   "cell_type": "code",
   "execution_count": 28,
   "metadata": {},
   "outputs": [
    {
     "data": {
      "text/plain": [
       "1839740.957027406"
      ]
     },
     "execution_count": 28,
     "metadata": {},
     "output_type": "execute_result"
    }
   ],
   "source": [
    "# Calculate the mean absolute deviation (MAD\n",
    "mean = production_data.mean()\n",
    "mad = (production_data - mean).abs().mean()\n",
    "mad"
   ]
  },
  {
   "cell_type": "code",
   "execution_count": 30,
   "metadata": {},
   "outputs": [
    {
     "name": "stdout",
     "output_type": "stream",
     "text": [
      "                Area  Production     Yield\n",
      "Area        1.000000    0.048521  0.000426\n",
      "Production  0.048521    1.000000  0.437400\n",
      "Yield       0.000426    0.437400  1.000000\n"
     ]
    }
   ],
   "source": [
    "# Filter only the numeric columns\n",
    "numeric_df = df.select_dtypes(include='number')\n",
    "\n",
    "# Calculate the correlation matrix\n",
    "corr_matrix = numeric_df.corr()\n",
    "\n",
    "# Print the correlation matrix\n",
    "print(corr_matrix)"
   ]
  },
  {
   "cell_type": "code",
   "execution_count": null,
   "metadata": {},
   "outputs": [],
   "source": [
    "# In computational applications, an orthogonal matrix is preferred for two main reasons:\n",
    "# Orthogonal matrices preserve the geometry of vectors when used for linear transformations. This means that angles and lengths between vectors are maintained, which is crucial in applications such as computer graphics, where preserving the shape and size of objects is essential.\n",
    "\n",
    "# Calculating the inverse of an orthogonal matrix is computationally efficient. In fact, the inverse of an orthogonal matrix is simply its transpose, making it straightforward to find the inverse. This efficiency is valuable in numerical computations and iterative algorithms.\n",
    "\n",
    "# These two reasons highlight the significance of orthogonal matrices in computational applications, where accuracy and efficiency are paramount."
   ]
  },
  {
   "cell_type": "code",
   "execution_count": null,
   "metadata": {},
   "outputs": [],
   "source": [
    "# Matrix:\n",
    "\n",
    "# A matrix is a two-dimensional array of numbers or symbols arranged in rows and columns. It is a fundamental concept in linear algebra.\n",
    "# Matrices are used to perform linear transformations, solve systems of linear equations, and represent data in two-dimensional space.\n",
    "# They have applications in various fields, including computer graphics, optimization, and statistics.\n",
    "# Matrices are defined by their dimensions, such as m x n, where 'm' is the number of rows and 'n' is the number of columns.\n",
    "# Tensor:\n",
    "\n",
    "# A tensor is a more general mathematical object that can represent multi-dimensional arrays of data.\n",
    "# Tensors can have any number of dimensions, including scalars (0D tensors), vectors (1D tensors), matrices (2D tensors), and higher-dimensional arrays.\n",
    "# They are used in physics, engineering, and machine learning to represent data that spans multiple dimensions.\n",
    "# Tensors are described by their order or rank, which indicates the number of dimensions they possess.\n",
    "# Differences:\n",
    "\n",
    "# While matrices are limited to two dimensions, tensors can have any number of dimensions, making them more versatile for representing complex data.\n",
    "# Matrices are commonly used in linear algebra for linear transformations and equations, while tensors find applications in a broader range of fields, such as physics and machine learning.\n",
    "# Tensors provide a more flexible and comprehensive framework for handling multi-dimensional data, making them essential in modern data analysis and computational applications.\n",
    "# In computational applications, tensors are preferred over matrices when dealing with multi-dimensional data or complex operations that go beyond two dimensions. They offer greater flexibility and are better suited to represent real-world data in various scientific and engineering domains."
   ]
  },
  {
   "cell_type": "code",
   "execution_count": null,
   "metadata": {},
   "outputs": [],
   "source": [
    "# Q1)Descriptive Statistics:\n",
    "\n",
    "# Descriptive statistics are used to summarize and describe the main features of a dataset. They provide a clear cut overview of the data.it give a understandable summary of the data.\n",
    "# it use various techniques to sort, summarize, and present data visually or numerically.it include measures of central tendency (mean, median, mode), measures of variability (range, variance, standard deviation), and graphical representations (histograms, bar charts, box plots).\n",
    "# it is used to calculate the average income of a population, create a histogram to visualize the distribution or calculate the percentage of customers who purchased a product.\n",
    "\n",
    "# 2. Inferential Statistics:\n",
    "\n",
    "# Inferential statistics are used to draw conclusions or make inferences about a larger population based on data collected from a sample.\n",
    "# it uses probability and hypothesis testing to make good guesses about population(population mean,correlation).\n",
    "# we can do hypothesis tests,regression analysis\n",
    "# used to determine if a new drug is effective for an entire population by testing it on a sample data\n",
    "\n",
    "# Q2)Explain the concept of the p-value in hypothesis testing. How is it used to make decisions regarding the null hypothesis?\n",
    "# It represents the probability of obtaining observed results when the null hypothesis is true\n",
    "# In hypothesis testing there is two hypotheses the null hypothesis (H0) and the alternative hypothesis (H1)\n",
    "# H0 It is the hypothesis you want to test.\n",
    "# H1 is what you are trying to establish or prove a change\n",
    "# we collect useful data from a sample data\n",
    "# we do test using the collected data.t-test, z-test, chi-square test that summarizes how much the sample data deviates from what would be expected under the null hypothesis.\n",
    "# we choose a α which is typically set at a predetermined value 0.05 or 0.01\n",
    "# A small p-value p ≤ α implies that the observed results are unlikely to have occurred by random chance, so you reject the null hypothesis in favor of the alternative.\n",
    "# A large p-value p > α suggests that the observed results are consistent with what would be expected under the null hypothesis, so you do not reject the null hypothesis.\n",
    "\n",
    "# Q3)Which of the following statements about the standard deviation is true? \n",
    "# a) It measures the spread or dispersion of data. \n",
    "# b) It represents the most frequent value in a dataset. \n",
    "# c) It is the same as the variance. \n",
    "# d) It is always positive\n",
    "\n",
    "# Ans: option a\n",
    "\n",
    "# Q4)In matrix multiplication, the order of matrices matters. If you have matrices A (3x2) and B (2x4), what will be the dimensions of the resulting matrix when you multiply A by B?\n",
    "#  a) 3x4\n",
    "#  b) 2x2\n",
    "#  c) 3x2\n",
    "#  d) 2x3\n",
    " \n",
    "#  Ans:3*4\n",
    " \n",
    "#  Q5)Which of the following matrices is an identity matrix? \n",
    "#  Ans:option a\n",
    " \n",
    "#  Question 6: What is the main purpose of a confidence interval in statistics? \t        (1 Marks)\n",
    "# a) To determine the sample size required for a study. \n",
    "# b) To estimate the population mean or proportion with a margin of error. \n",
    "# c) To test hypotheses about population parameters. \n",
    "# d) To plot the data points on a graph.\n",
    "\n",
    "# Ans:option b"
   ]
  }
 ],
 "metadata": {
  "kernelspec": {
   "display_name": "Python 3",
   "language": "python",
   "name": "python3"
  },
  "language_info": {
   "codemirror_mode": {
    "name": "ipython",
    "version": 3
   },
   "file_extension": ".py",
   "mimetype": "text/x-python",
   "name": "python",
   "nbconvert_exporter": "python",
   "pygments_lexer": "ipython3",
   "version": "3.11.5"
  },
  "orig_nbformat": 4
 },
 "nbformat": 4,
 "nbformat_minor": 2
}
